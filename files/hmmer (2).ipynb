{
  "nbformat": 4,
  "nbformat_minor": 0,
  "metadata": {
    "colab": {
      "provenance": []
    },
    "kernelspec": {
      "name": "python3",
      "display_name": "Python 3"
    },
    "language_info": {
      "name": "python"
    }
  },
  "cells": [
    {
      "cell_type": "code",
      "source": [
        "%%bash\n",
        "# download Pfam HMM-profiles\n",
        "wget https://ftp.ebi.ac.uk/pub/databases/Pfam/current_release/Pfam-A.hmm.gz\n",
        "gunzip Pfam-A.hmm.gz\n",
        "\n",
        "# install HMMER3\n",
        "apt install hmmer"
      ],
      "metadata": {
        "id": "J6zOq_0wQ5zg"
      },
      "execution_count": null,
      "outputs": []
    },
    {
      "cell_type": "code",
      "source": [
        "!pip install pyhmmer biopython\n",
        "\n",
        "import re\n",
        "import pandas as pd\n",
        "\n",
        "from pyhmmer.easel import SequenceFile\n",
        "from pyhmmer.hmmer import HMMFile, hmmscan\n",
        "\n",
        "from Bio import SeqIO"
      ],
      "metadata": {
        "id": "ahFzTZv0cJTO"
      },
      "execution_count": null,
      "outputs": []
    },
    {
      "cell_type": "code",
      "source": [
        "data = pd.read_csv('For project - selected.csv')\n",
        "data.head()"
      ],
      "metadata": {
        "colab": {
          "base_uri": "https://localhost:8080/",
          "height": 469
        },
        "id": "XUGoAYzrdhuC",
        "outputId": "688dbb80-9c74-433c-c60b-39495578618a"
      },
      "execution_count": null,
      "outputs": [
        {
          "output_type": "execute_result",
          "data": {
            "text/plain": [
              "  HGNC approved symbol Product                       Function  \\\n",
              "0                 A1CF       U               RNA modification   \n",
              "1                ACINU       #               RNA modification   \n",
              "2                 ACTB       #  Chromatin remodeling cofactor   \n",
              "3               ACTL6A       #  Chromatin remodeling cofactor   \n",
              "4               ACTL6B       #  Chromatin remodeling cofactor   \n",
              "\n",
              "                                     Protein complex Target entity  \\\n",
              "0                                APOB_mRNA_editosome      mRNA, mC   \n",
              "1                                                  #          mRNA   \n",
              "2  BAF, nBAF, npBAF, PBAF, SWI/SNF-like EPAFB, bB...             #   \n",
              "3  BAF, npBAF, PBAF, SWI/SNF_Brg1(I), SWI/SNF_Brg...             #   \n",
              "4  BAF, nBAF, PBAF, SWI/SNF_Brg1(I), SWI/SNF_Brg1...             #   \n",
              "\n",
              "                                  HGNC approved name UniProt ID (human)  \\\n",
              "0                     APOBEC1 complementation factor         A1CF_HUMAN   \n",
              "1  Apoptotic chromatin condensation inducer in th...        ACINU_HUMAN   \n",
              "2                                        actin, beta         ACTB_HUMAN   \n",
              "3                                      actin-like 6A        ACL6A_HUMAN   \n",
              "4                                      actin-like 6B        ACL6B_HUMAN   \n",
              "\n",
              "                                        Pfam domains UniProt ID (mouse)  \\\n",
              "0  DND1_DSRM PF14709 445-523, RRM_1 PF00076 58-12...         A1CF_MOUSE   \n",
              "1                                    PF16294;PF02037        ACINU_MOUSE   \n",
              "2                                Actin PF00022 2-375         ACTB_MOUSE   \n",
              "3                                Actin PF00022 8-429        ACL6A_MOUSE   \n",
              "4                                Actin PF00022 8-426        ACL6B_MOUSE   \n",
              "\n",
              "           Modification  \n",
              "0       RNA deamination  \n",
              "1  Alternative splicing  \n",
              "2                     #  \n",
              "3                     #  \n",
              "4                     #  "
            ],
            "text/html": [
              "\n",
              "  <div id=\"df-485fe25f-819a-427f-8a5e-acd333034e74\" class=\"colab-df-container\">\n",
              "    <div>\n",
              "<style scoped>\n",
              "    .dataframe tbody tr th:only-of-type {\n",
              "        vertical-align: middle;\n",
              "    }\n",
              "\n",
              "    .dataframe tbody tr th {\n",
              "        vertical-align: top;\n",
              "    }\n",
              "\n",
              "    .dataframe thead th {\n",
              "        text-align: right;\n",
              "    }\n",
              "</style>\n",
              "<table border=\"1\" class=\"dataframe\">\n",
              "  <thead>\n",
              "    <tr style=\"text-align: right;\">\n",
              "      <th></th>\n",
              "      <th>HGNC approved symbol</th>\n",
              "      <th>Product</th>\n",
              "      <th>Function</th>\n",
              "      <th>Protein complex</th>\n",
              "      <th>Target entity</th>\n",
              "      <th>HGNC approved name</th>\n",
              "      <th>UniProt ID (human)</th>\n",
              "      <th>Pfam domains</th>\n",
              "      <th>UniProt ID (mouse)</th>\n",
              "      <th>Modification</th>\n",
              "    </tr>\n",
              "  </thead>\n",
              "  <tbody>\n",
              "    <tr>\n",
              "      <th>0</th>\n",
              "      <td>A1CF</td>\n",
              "      <td>U</td>\n",
              "      <td>RNA modification</td>\n",
              "      <td>APOB_mRNA_editosome</td>\n",
              "      <td>mRNA, mC</td>\n",
              "      <td>APOBEC1 complementation factor</td>\n",
              "      <td>A1CF_HUMAN</td>\n",
              "      <td>DND1_DSRM PF14709 445-523, RRM_1 PF00076 58-12...</td>\n",
              "      <td>A1CF_MOUSE</td>\n",
              "      <td>RNA deamination</td>\n",
              "    </tr>\n",
              "    <tr>\n",
              "      <th>1</th>\n",
              "      <td>ACINU</td>\n",
              "      <td>#</td>\n",
              "      <td>RNA modification</td>\n",
              "      <td>#</td>\n",
              "      <td>mRNA</td>\n",
              "      <td>Apoptotic chromatin condensation inducer in th...</td>\n",
              "      <td>ACINU_HUMAN</td>\n",
              "      <td>PF16294;PF02037</td>\n",
              "      <td>ACINU_MOUSE</td>\n",
              "      <td>Alternative splicing</td>\n",
              "    </tr>\n",
              "    <tr>\n",
              "      <th>2</th>\n",
              "      <td>ACTB</td>\n",
              "      <td>#</td>\n",
              "      <td>Chromatin remodeling cofactor</td>\n",
              "      <td>BAF, nBAF, npBAF, PBAF, SWI/SNF-like EPAFB, bB...</td>\n",
              "      <td>#</td>\n",
              "      <td>actin, beta</td>\n",
              "      <td>ACTB_HUMAN</td>\n",
              "      <td>Actin PF00022 2-375</td>\n",
              "      <td>ACTB_MOUSE</td>\n",
              "      <td>#</td>\n",
              "    </tr>\n",
              "    <tr>\n",
              "      <th>3</th>\n",
              "      <td>ACTL6A</td>\n",
              "      <td>#</td>\n",
              "      <td>Chromatin remodeling cofactor</td>\n",
              "      <td>BAF, npBAF, PBAF, SWI/SNF_Brg1(I), SWI/SNF_Brg...</td>\n",
              "      <td>#</td>\n",
              "      <td>actin-like 6A</td>\n",
              "      <td>ACL6A_HUMAN</td>\n",
              "      <td>Actin PF00022 8-429</td>\n",
              "      <td>ACL6A_MOUSE</td>\n",
              "      <td>#</td>\n",
              "    </tr>\n",
              "    <tr>\n",
              "      <th>4</th>\n",
              "      <td>ACTL6B</td>\n",
              "      <td>#</td>\n",
              "      <td>Chromatin remodeling cofactor</td>\n",
              "      <td>BAF, nBAF, PBAF, SWI/SNF_Brg1(I), SWI/SNF_Brg1...</td>\n",
              "      <td>#</td>\n",
              "      <td>actin-like 6B</td>\n",
              "      <td>ACL6B_HUMAN</td>\n",
              "      <td>Actin PF00022 8-426</td>\n",
              "      <td>ACL6B_MOUSE</td>\n",
              "      <td>#</td>\n",
              "    </tr>\n",
              "  </tbody>\n",
              "</table>\n",
              "</div>\n",
              "    <div class=\"colab-df-buttons\">\n",
              "\n",
              "  <div class=\"colab-df-container\">\n",
              "    <button class=\"colab-df-convert\" onclick=\"convertToInteractive('df-485fe25f-819a-427f-8a5e-acd333034e74')\"\n",
              "            title=\"Convert this dataframe to an interactive table.\"\n",
              "            style=\"display:none;\">\n",
              "\n",
              "  <svg xmlns=\"http://www.w3.org/2000/svg\" height=\"24px\" viewBox=\"0 -960 960 960\">\n",
              "    <path d=\"M120-120v-720h720v720H120Zm60-500h600v-160H180v160Zm220 220h160v-160H400v160Zm0 220h160v-160H400v160ZM180-400h160v-160H180v160Zm440 0h160v-160H620v160ZM180-180h160v-160H180v160Zm440 0h160v-160H620v160Z\"/>\n",
              "  </svg>\n",
              "    </button>\n",
              "\n",
              "  <style>\n",
              "    .colab-df-container {\n",
              "      display:flex;\n",
              "      gap: 12px;\n",
              "    }\n",
              "\n",
              "    .colab-df-convert {\n",
              "      background-color: #E8F0FE;\n",
              "      border: none;\n",
              "      border-radius: 50%;\n",
              "      cursor: pointer;\n",
              "      display: none;\n",
              "      fill: #1967D2;\n",
              "      height: 32px;\n",
              "      padding: 0 0 0 0;\n",
              "      width: 32px;\n",
              "    }\n",
              "\n",
              "    .colab-df-convert:hover {\n",
              "      background-color: #E2EBFA;\n",
              "      box-shadow: 0px 1px 2px rgba(60, 64, 67, 0.3), 0px 1px 3px 1px rgba(60, 64, 67, 0.15);\n",
              "      fill: #174EA6;\n",
              "    }\n",
              "\n",
              "    .colab-df-buttons div {\n",
              "      margin-bottom: 4px;\n",
              "    }\n",
              "\n",
              "    [theme=dark] .colab-df-convert {\n",
              "      background-color: #3B4455;\n",
              "      fill: #D2E3FC;\n",
              "    }\n",
              "\n",
              "    [theme=dark] .colab-df-convert:hover {\n",
              "      background-color: #434B5C;\n",
              "      box-shadow: 0px 1px 3px 1px rgba(0, 0, 0, 0.15);\n",
              "      filter: drop-shadow(0px 1px 2px rgba(0, 0, 0, 0.3));\n",
              "      fill: #FFFFFF;\n",
              "    }\n",
              "  </style>\n",
              "\n",
              "    <script>\n",
              "      const buttonEl =\n",
              "        document.querySelector('#df-485fe25f-819a-427f-8a5e-acd333034e74 button.colab-df-convert');\n",
              "      buttonEl.style.display =\n",
              "        google.colab.kernel.accessAllowed ? 'block' : 'none';\n",
              "\n",
              "      async function convertToInteractive(key) {\n",
              "        const element = document.querySelector('#df-485fe25f-819a-427f-8a5e-acd333034e74');\n",
              "        const dataTable =\n",
              "          await google.colab.kernel.invokeFunction('convertToInteractive',\n",
              "                                                    [key], {});\n",
              "        if (!dataTable) return;\n",
              "\n",
              "        const docLinkHtml = 'Like what you see? Visit the ' +\n",
              "          '<a target=\"_blank\" href=https://colab.research.google.com/notebooks/data_table.ipynb>data table notebook</a>'\n",
              "          + ' to learn more about interactive tables.';\n",
              "        element.innerHTML = '';\n",
              "        dataTable['output_type'] = 'display_data';\n",
              "        await google.colab.output.renderOutput(dataTable, element);\n",
              "        const docLink = document.createElement('div');\n",
              "        docLink.innerHTML = docLinkHtml;\n",
              "        element.appendChild(docLink);\n",
              "      }\n",
              "    </script>\n",
              "  </div>\n",
              "\n",
              "\n",
              "<div id=\"df-2e4cd682-bd49-4b12-96aa-62cd6a0623a7\">\n",
              "  <button class=\"colab-df-quickchart\" onclick=\"quickchart('df-2e4cd682-bd49-4b12-96aa-62cd6a0623a7')\"\n",
              "            title=\"Suggest charts\"\n",
              "            style=\"display:none;\">\n",
              "\n",
              "<svg xmlns=\"http://www.w3.org/2000/svg\" height=\"24px\"viewBox=\"0 0 24 24\"\n",
              "     width=\"24px\">\n",
              "    <g>\n",
              "        <path d=\"M19 3H5c-1.1 0-2 .9-2 2v14c0 1.1.9 2 2 2h14c1.1 0 2-.9 2-2V5c0-1.1-.9-2-2-2zM9 17H7v-7h2v7zm4 0h-2V7h2v10zm4 0h-2v-4h2v4z\"/>\n",
              "    </g>\n",
              "</svg>\n",
              "  </button>\n",
              "\n",
              "<style>\n",
              "  .colab-df-quickchart {\n",
              "      --bg-color: #E8F0FE;\n",
              "      --fill-color: #1967D2;\n",
              "      --hover-bg-color: #E2EBFA;\n",
              "      --hover-fill-color: #174EA6;\n",
              "      --disabled-fill-color: #AAA;\n",
              "      --disabled-bg-color: #DDD;\n",
              "  }\n",
              "\n",
              "  [theme=dark] .colab-df-quickchart {\n",
              "      --bg-color: #3B4455;\n",
              "      --fill-color: #D2E3FC;\n",
              "      --hover-bg-color: #434B5C;\n",
              "      --hover-fill-color: #FFFFFF;\n",
              "      --disabled-bg-color: #3B4455;\n",
              "      --disabled-fill-color: #666;\n",
              "  }\n",
              "\n",
              "  .colab-df-quickchart {\n",
              "    background-color: var(--bg-color);\n",
              "    border: none;\n",
              "    border-radius: 50%;\n",
              "    cursor: pointer;\n",
              "    display: none;\n",
              "    fill: var(--fill-color);\n",
              "    height: 32px;\n",
              "    padding: 0;\n",
              "    width: 32px;\n",
              "  }\n",
              "\n",
              "  .colab-df-quickchart:hover {\n",
              "    background-color: var(--hover-bg-color);\n",
              "    box-shadow: 0 1px 2px rgba(60, 64, 67, 0.3), 0 1px 3px 1px rgba(60, 64, 67, 0.15);\n",
              "    fill: var(--button-hover-fill-color);\n",
              "  }\n",
              "\n",
              "  .colab-df-quickchart-complete:disabled,\n",
              "  .colab-df-quickchart-complete:disabled:hover {\n",
              "    background-color: var(--disabled-bg-color);\n",
              "    fill: var(--disabled-fill-color);\n",
              "    box-shadow: none;\n",
              "  }\n",
              "\n",
              "  .colab-df-spinner {\n",
              "    border: 2px solid var(--fill-color);\n",
              "    border-color: transparent;\n",
              "    border-bottom-color: var(--fill-color);\n",
              "    animation:\n",
              "      spin 1s steps(1) infinite;\n",
              "  }\n",
              "\n",
              "  @keyframes spin {\n",
              "    0% {\n",
              "      border-color: transparent;\n",
              "      border-bottom-color: var(--fill-color);\n",
              "      border-left-color: var(--fill-color);\n",
              "    }\n",
              "    20% {\n",
              "      border-color: transparent;\n",
              "      border-left-color: var(--fill-color);\n",
              "      border-top-color: var(--fill-color);\n",
              "    }\n",
              "    30% {\n",
              "      border-color: transparent;\n",
              "      border-left-color: var(--fill-color);\n",
              "      border-top-color: var(--fill-color);\n",
              "      border-right-color: var(--fill-color);\n",
              "    }\n",
              "    40% {\n",
              "      border-color: transparent;\n",
              "      border-right-color: var(--fill-color);\n",
              "      border-top-color: var(--fill-color);\n",
              "    }\n",
              "    60% {\n",
              "      border-color: transparent;\n",
              "      border-right-color: var(--fill-color);\n",
              "    }\n",
              "    80% {\n",
              "      border-color: transparent;\n",
              "      border-right-color: var(--fill-color);\n",
              "      border-bottom-color: var(--fill-color);\n",
              "    }\n",
              "    90% {\n",
              "      border-color: transparent;\n",
              "      border-bottom-color: var(--fill-color);\n",
              "    }\n",
              "  }\n",
              "</style>\n",
              "\n",
              "  <script>\n",
              "    async function quickchart(key) {\n",
              "      const quickchartButtonEl =\n",
              "        document.querySelector('#' + key + ' button');\n",
              "      quickchartButtonEl.disabled = true;  // To prevent multiple clicks.\n",
              "      quickchartButtonEl.classList.add('colab-df-spinner');\n",
              "      try {\n",
              "        const charts = await google.colab.kernel.invokeFunction(\n",
              "            'suggestCharts', [key], {});\n",
              "      } catch (error) {\n",
              "        console.error('Error during call to suggestCharts:', error);\n",
              "      }\n",
              "      quickchartButtonEl.classList.remove('colab-df-spinner');\n",
              "      quickchartButtonEl.classList.add('colab-df-quickchart-complete');\n",
              "    }\n",
              "    (() => {\n",
              "      let quickchartButtonEl =\n",
              "        document.querySelector('#df-2e4cd682-bd49-4b12-96aa-62cd6a0623a7 button');\n",
              "      quickchartButtonEl.style.display =\n",
              "        google.colab.kernel.accessAllowed ? 'block' : 'none';\n",
              "    })();\n",
              "  </script>\n",
              "</div>\n",
              "    </div>\n",
              "  </div>\n"
            ],
            "application/vnd.google.colaboratory.intrinsic+json": {
              "type": "dataframe",
              "variable_name": "data",
              "summary": "{\n  \"name\": \"data\",\n  \"rows\": 779,\n  \"fields\": [\n    {\n      \"column\": \"HGNC approved symbol\",\n      \"properties\": {\n        \"dtype\": \"string\",\n        \"num_unique_values\": 774,\n        \"samples\": [\n          \"MBD3\",\n          \"PRMT5\",\n          \"SET\"\n        ],\n        \"semantic_type\": \"\",\n        \"description\": \"\"\n      }\n    },\n    {\n      \"column\": \"Product\",\n      \"properties\": {\n        \"dtype\": \"category\",\n        \"num_unique_values\": 141,\n        \"samples\": [\n          \"H2BK34ub\",\n          \"H3K9me2\",\n          \"H3K27me1, H3K27me2, H3K27me3\"\n        ],\n        \"semantic_type\": \"\",\n        \"description\": \"\"\n      }\n    },\n    {\n      \"column\": \"Function\",\n      \"properties\": {\n        \"dtype\": \"category\",\n        \"num_unique_values\": 50,\n        \"samples\": [\n          \"Histone modification write\",\n          \"Histone modification erase, Histone modification write cofactor\",\n          \"Scaffold protein\"\n        ],\n        \"semantic_type\": \"\",\n        \"description\": \"\"\n      }\n    },\n    {\n      \"column\": \"Protein complex\",\n      \"properties\": {\n        \"dtype\": \"category\",\n        \"num_unique_values\": 130,\n        \"samples\": [\n          \"SWI/SNF_Brg1(I), SWI/SNF_Brg1(II), SWI/SNF_Brm, NuRD, BHC, MeCP1, mSin3A, core HDAC, mSin3A-like complex, RING2-L3MBTL2, LSD-CoREST\",\n          \"LSD-CoREST\",\n          \"B-WICH, WINAC\"\n        ],\n        \"semantic_type\": \"\",\n        \"description\": \"\"\n      }\n    },\n    {\n      \"column\": \"Target entity\",\n      \"properties\": {\n        \"dtype\": \"category\",\n        \"num_unique_values\": 214,\n        \"samples\": [\n          \"m6A of mRNA\",\n          \"H2AT120\",\n          \"H3K4\"\n        ],\n        \"semantic_type\": \"\",\n        \"description\": \"\"\n      }\n    },\n    {\n      \"column\": \"HGNC approved name\",\n      \"properties\": {\n        \"dtype\": \"string\",\n        \"num_unique_values\": 777,\n        \"samples\": [\n          \"RING1 and YY1 binding protein\",\n          \"retinoblastoma binding protein 5\",\n          \"SWI/SNF related, matrix associated, actin dependent regulator of chromatin, subfamily a, member 2\"\n        ],\n        \"semantic_type\": \"\",\n        \"description\": \"\"\n      }\n    },\n    {\n      \"column\": \"UniProt ID (human)\",\n      \"properties\": {\n        \"dtype\": \"string\",\n        \"num_unique_values\": 773,\n        \"samples\": [\n          \"MCRS1_HUMAN\",\n          \"TFPT_HUMAN\",\n          \"PUF60_HUMAN\"\n        ],\n        \"semantic_type\": \"\",\n        \"description\": \"\"\n      }\n    },\n    {\n      \"column\": \"Pfam domains\",\n      \"properties\": {\n        \"dtype\": \"string\",\n        \"num_unique_values\": 727,\n        \"samples\": [\n          \"DUF1767 PF08585 12-104, Pfam-B_227 PB000227 590-623\",\n          \"WW PF00397 131-160\",\n          \"JAB PF01398 572-682, Myb_DNA-binding PF00249 118-163, Pfam-B_30622 PB030622 691-736, SWIRM PF04433 372-461\"\n        ],\n        \"semantic_type\": \"\",\n        \"description\": \"\"\n      }\n    },\n    {\n      \"column\": \"UniProt ID (mouse)\",\n      \"properties\": {\n        \"dtype\": \"string\",\n        \"num_unique_values\": 731,\n        \"samples\": [\n          \"NSD2_MOUSE\",\n          \"ASH2L_MOUSE\",\n          \"KDM5A_MOUSE\"\n        ],\n        \"semantic_type\": \"\",\n        \"description\": \"\"\n      }\n    },\n    {\n      \"column\": \"Modification\",\n      \"properties\": {\n        \"dtype\": \"category\",\n        \"num_unique_values\": 46,\n        \"samples\": [\n          \"Histone sumoylation, Histone acetylation\",\n          \"Histone acetylation, Histone methylation, Histone ubiquitination\",\n          \"Histone methylation, Histone acetylation, TF activator, TF repressor\"\n        ],\n        \"semantic_type\": \"\",\n        \"description\": \"\"\n      }\n    }\n  ]\n}"
            }
          },
          "metadata": {},
          "execution_count": 51
        }
      ]
    },
    {
      "cell_type": "code",
      "source": [
        "# Get unique Pfam IDs from \"For project - selected.csv\"\n",
        "query = set(re.findall(r'PF\\d{5}', ' '.join(data['Pfam domains'])))\n",
        "len(query)"
      ],
      "metadata": {
        "colab": {
          "base_uri": "https://localhost:8080/"
        },
        "id": "HZXevVEefDEZ",
        "outputId": "77e36936-3165-4b67-9484-d1b44bdc1b92"
      },
      "execution_count": null,
      "outputs": [
        {
          "output_type": "execute_result",
          "data": {
            "text/plain": [
              "514"
            ]
          },
          "metadata": {},
          "execution_count": 52
        }
      ]
    },
    {
      "cell_type": "code",
      "source": [
        "available_ids = []\n",
        "\n",
        "# Convert Pfam IDs (PFXXXXX.X -> PFXXXXX)\n",
        "with open('Pfam-A.hmm') as file1, open('Pfam-A[converted].hmm', 'w') as file2:\n",
        "    for line in map(lambda s: s.removesuffix('\\n'), file1):\n",
        "        if line.startswith('ACC'):\n",
        "            _, pfam_id = line.split()\n",
        "            pfam_id = pfam_id.split('.')[0]\n",
        "            available_ids.append(pfam_id)\n",
        "\n",
        "            print(f'ACC   {pfam_id}', file=file2)\n",
        "        else:\n",
        "            print(line, file=file2)"
      ],
      "metadata": {
        "id": "bEGAJG7wb0ln"
      },
      "execution_count": null,
      "outputs": []
    },
    {
      "cell_type": "code",
      "source": [
        "# Filter query and save to file\n",
        "query = [pfam_id for pfam_id in query if pfam_id in available_ids]\n",
        "\n",
        "with open('query.txt', 'w') as file:\n",
        "    print('\\n'.join(query), file=file)\n",
        "\n",
        "len(query)"
      ],
      "metadata": {
        "colab": {
          "base_uri": "https://localhost:8080/"
        },
        "id": "hs3TZGyqfXZK",
        "outputId": "8168a1bc-a99a-4f05-8366-d6108dcfe63b"
      },
      "execution_count": null,
      "outputs": [
        {
          "output_type": "execute_result",
          "data": {
            "text/plain": [
              "510"
            ]
          },
          "metadata": {},
          "execution_count": 56
        }
      ]
    },
    {
      "cell_type": "code",
      "source": [
        "%%bash\n",
        "# Fetch subset\n",
        "hmmfetch --index Pfam-A[converted].hmm\n",
        "hmmfetch -f Pfam-A[converted].hmm query.txt > Pfam-subset.hmm"
      ],
      "metadata": {
        "colab": {
          "base_uri": "https://localhost:8080/"
        },
        "id": "kCK2WkESdJky",
        "outputId": "d8c83445-7aa6-450b-bfd0-05515958d14e"
      },
      "execution_count": null,
      "outputs": [
        {
          "output_type": "stream",
          "name": "stdout",
          "text": [
            "Working...    done.\n",
            "Indexed 21979 HMMs (21979 names and 21979 accessions).\n",
            "SSI index written to file Pfam-A[converted].hmm.ssi\n"
          ]
        }
      ]
    },
    {
      "cell_type": "code",
      "source": [
        "!gunzip UP000008153_5671.fasta.gz"
      ],
      "metadata": {
        "id": "gEayNETgjWHu"
      },
      "execution_count": null,
      "outputs": []
    },
    {
      "cell_type": "code",
      "source": [
        "seqfile = 'UP000008153_5671.fasta'\n",
        "sequences = SeqIO.index(seqfile, 'fasta')\n",
        "\n",
        "# Run hmmscan\n",
        "with (\n",
        "    SequenceFile(seqfile, digital=True) as queries,\n",
        "    HMMFile('Pfam-subset.hmm') as profiles,\n",
        "    open('output.tsv', mode='w') as tsv_outfile,\n",
        "    open('output.faa', mode='w') as faa_outfile\n",
        "):\n",
        "    for hits in hmmscan(queries, profiles):\n",
        "        if hits:\n",
        "            seq_id = hits.query_name.decode()\n",
        "\n",
        "            print(seq_id, *[hit.accession.decode() for hit in hits], sep='\\t', file=tsv_outfile)\n",
        "            SeqIO.write(sequences[seq_id], faa_outfile, 'fasta')"
      ],
      "metadata": {
        "id": "UtyrQpW9hyTs"
      },
      "execution_count": null,
      "outputs": []
    },
    {
      "cell_type": "code",
      "source": [
        "!pip install pandas gffutils\n"
      ],
      "metadata": {
        "id": "xFR54upekGqy",
        "colab": {
          "base_uri": "https://localhost:8080/"
        },
        "outputId": "cdf6cb14-4619-4c6c-c003-c571bb0143e4"
      },
      "execution_count": 1,
      "outputs": [
        {
          "output_type": "stream",
          "name": "stdout",
          "text": [
            "Requirement already satisfied: pandas in /usr/local/lib/python3.10/dist-packages (2.0.3)\n",
            "Collecting gffutils\n",
            "  Downloading gffutils-0.13-py3-none-any.whl (1.6 MB)\n",
            "\u001b[2K     \u001b[90m━━━━━━━━━━━━━━━━━━━━━━━━━━━━━━━━━━━━━━━━\u001b[0m \u001b[32m1.6/1.6 MB\u001b[0m \u001b[31m17.9 MB/s\u001b[0m eta \u001b[36m0:00:00\u001b[0m\n",
            "\u001b[?25hRequirement already satisfied: python-dateutil>=2.8.2 in /usr/local/lib/python3.10/dist-packages (from pandas) (2.8.2)\n",
            "Requirement already satisfied: pytz>=2020.1 in /usr/local/lib/python3.10/dist-packages (from pandas) (2023.4)\n",
            "Requirement already satisfied: tzdata>=2022.1 in /usr/local/lib/python3.10/dist-packages (from pandas) (2024.1)\n",
            "Requirement already satisfied: numpy>=1.21.0 in /usr/local/lib/python3.10/dist-packages (from pandas) (1.25.2)\n",
            "Collecting pyfaidx>=0.5.5.2 (from gffutils)\n",
            "  Downloading pyfaidx-0.8.1.1-py3-none-any.whl (28 kB)\n",
            "Collecting argh>=0.26.2 (from gffutils)\n",
            "  Downloading argh-0.31.2-py3-none-any.whl (44 kB)\n",
            "\u001b[2K     \u001b[90m━━━━━━━━━━━━━━━━━━━━━━━━━━━━━━━━━━━━━━━━\u001b[0m \u001b[32m44.8/44.8 kB\u001b[0m \u001b[31m6.6 MB/s\u001b[0m eta \u001b[36m0:00:00\u001b[0m\n",
            "\u001b[?25hCollecting argcomplete>=1.9.4 (from gffutils)\n",
            "  Downloading argcomplete-3.4.0-py3-none-any.whl (42 kB)\n",
            "\u001b[2K     \u001b[90m━━━━━━━━━━━━━━━━━━━━━━━━━━━━━━━━━━━━━━━━\u001b[0m \u001b[32m42.6/42.6 kB\u001b[0m \u001b[31m6.3 MB/s\u001b[0m eta \u001b[36m0:00:00\u001b[0m\n",
            "\u001b[?25hCollecting simplejson (from gffutils)\n",
            "  Downloading simplejson-3.19.2-cp310-cp310-manylinux_2_5_x86_64.manylinux1_x86_64.manylinux_2_17_x86_64.manylinux2014_x86_64.whl (137 kB)\n",
            "\u001b[2K     \u001b[90m━━━━━━━━━━━━━━━━━━━━━━━━━━━━━━━━━━━━━━━━\u001b[0m \u001b[32m137.9/137.9 kB\u001b[0m \u001b[31m14.5 MB/s\u001b[0m eta \u001b[36m0:00:00\u001b[0m\n",
            "\u001b[?25hRequirement already satisfied: setuptools in /usr/local/lib/python3.10/dist-packages (from pyfaidx>=0.5.5.2->gffutils) (67.7.2)\n",
            "Requirement already satisfied: importlib-metadata in /usr/local/lib/python3.10/dist-packages (from pyfaidx>=0.5.5.2->gffutils) (7.1.0)\n",
            "Requirement already satisfied: six>=1.5 in /usr/local/lib/python3.10/dist-packages (from python-dateutil>=2.8.2->pandas) (1.16.0)\n",
            "Requirement already satisfied: zipp>=0.5 in /usr/local/lib/python3.10/dist-packages (from importlib-metadata->pyfaidx>=0.5.5.2->gffutils) (3.19.2)\n",
            "Installing collected packages: simplejson, argh, argcomplete, pyfaidx, gffutils\n",
            "Successfully installed argcomplete-3.4.0 argh-0.31.2 gffutils-0.13 pyfaidx-0.8.1.1 simplejson-3.19.2\n"
          ]
        }
      ]
    },
    {
      "cell_type": "code",
      "source": [
        "import pandas as pd\n",
        "import gffutils\n",
        "\n",
        "def read_and_split_z_dna_file(file_path):\n",
        "    data = []\n",
        "    with open(file_path, 'r') as file:\n",
        "        for line in file:\n",
        "            # Пропускаем строку, если это заголовок или пустая строка\n",
        "            line = line.strip()\n",
        "            if not line or line.lower().startswith('start'):\n",
        "                continue\n",
        "\n",
        "            # Разбиваем строку на два значения\n",
        "            parts = line.split()\n",
        "            if len(parts) == 2:\n",
        "                start, end = parts\n",
        "                data.append({'start': int(start), 'end': int(end)})\n",
        "            else:\n",
        "                print(f\"Skipping malformed line: {line}\")\n",
        "\n",
        "    return pd.DataFrame(data)\n",
        "\n",
        "z_dna_df = read_and_split_z_dna_file('z_dna.txt')"
      ],
      "metadata": {
        "colab": {
          "base_uri": "https://localhost:8080/"
        },
        "id": "Wh0II-7mH3RQ",
        "outputId": "e7420f11-a9e1-4055-f217-4c7ec9b64a5f"
      },
      "execution_count": 24,
      "outputs": [
        {
          "output_type": "stream",
          "name": "stdout",
          "text": [
            "Skipping malformed line: NC_009387.2\n",
            "Skipping malformed line: NC_009388.2\n",
            "Skipping malformed line: NC_009389.2\n",
            "Skipping malformed line: NC_009390.2\n",
            "Skipping malformed line: NC_009277.2\n",
            "Skipping malformed line: NC_009391.2\n",
            "Skipping malformed line: NC_009392.2\n",
            "Skipping malformed line: NC_009393.2\n",
            "Skipping malformed line: NC_009394.2\n",
            "Skipping malformed line: NC_009395.2\n",
            "Skipping malformed line: NC_009396.2\n",
            "Skipping malformed line: NC_009397.2\n",
            "Skipping malformed line: NC_009398.2\n",
            "Skipping malformed line: NC_009399.2\n",
            "Skipping malformed line: NC_009400.2\n",
            "Skipping malformed line: NC_009401.2\n",
            "Skipping malformed line: NC_009402.2\n",
            "Skipping malformed line: NC_009403.2\n",
            "Skipping malformed line: NC_009404.2\n",
            "Skipping malformed line: NC_009405.2\n",
            "Skipping malformed line: NC_009406.2\n",
            "Skipping malformed line: NC_009407.2\n",
            "Skipping malformed line: NC_009408.2\n",
            "Skipping malformed line: NC_009409.2\n",
            "Skipping malformed line: NC_009410.2\n",
            "Skipping malformed line: NC_009411.2\n",
            "Skipping malformed line: NC_009412.2\n",
            "Skipping malformed line: NC_009413.2\n",
            "Skipping malformed line: NC_009414.2\n",
            "Skipping malformed line: NC_009415.2\n",
            "Skipping malformed line: NC_009416.2\n",
            "Skipping malformed line: NC_009417.2\n",
            "Skipping malformed line: NC_009418.2\n",
            "Skipping malformed line: NC_009419.2\n",
            "Skipping malformed line: NC_009420.2\n",
            "Skipping malformed line: NW_004057899.1\n",
            "Skipping malformed line: NW_004057900.1\n",
            "Skipping malformed line: NW_004057938.1\n",
            "Skipping malformed line: NW_004057937.1\n",
            "Skipping malformed line: NW_004057936.1\n",
            "Skipping malformed line: NW_004057901.1\n",
            "Skipping malformed line: NW_004057902.1\n",
            "Skipping malformed line: NW_004057903.1\n",
            "Skipping malformed line: NW_004057904.1\n",
            "Skipping malformed line: NW_004057905.1\n",
            "Skipping malformed line: NW_004057906.1\n",
            "Skipping malformed line: NW_004057935.1\n",
            "Skipping malformed line: NW_004057907.1\n",
            "Skipping malformed line: NW_004057934.1\n",
            "Skipping malformed line: NW_004057908.1\n",
            "Skipping malformed line: NW_004057909.1\n",
            "Skipping malformed line: NW_004057910.1\n",
            "Skipping malformed line: NW_004057933.1\n",
            "Skipping malformed line: NW_004057932.1\n",
            "Skipping malformed line: NW_004057931.1\n",
            "Skipping malformed line: NW_004057911.1\n",
            "Skipping malformed line: NW_004057912.1\n",
            "Skipping malformed line: NW_004057930.1\n",
            "Skipping malformed line: NW_004057913.1\n",
            "Skipping malformed line: NW_004057929.1\n",
            "Skipping malformed line: NW_004057914.1\n",
            "Skipping malformed line: NW_004057915.1\n",
            "Skipping malformed line: NW_004057916.1\n",
            "Skipping malformed line: NW_004057917.1\n",
            "Skipping malformed line: NW_004057918.1\n",
            "Skipping malformed line: NW_004057919.1\n",
            "Skipping malformed line: NW_004057920.1\n",
            "Skipping malformed line: NW_004057921.1\n",
            "Skipping malformed line: NW_004057922.1\n",
            "Skipping malformed line: NW_004057928.1\n",
            "Skipping malformed line: NW_004057927.1\n",
            "Skipping malformed line: NW_004057923.1\n",
            "Skipping malformed line: NW_004057924.1\n",
            "Skipping malformed line: NW_004057925.1\n",
            "Skipping malformed line: NW_004057926.1\n"
          ]
        }
      ]
    },
    {
      "cell_type": "code",
      "source": [
        "def process_z_dna_file(z_dna_file):\n",
        "    z_dna_coordinates = []\n",
        "\n",
        "    # Читаем файл с координатами Z-DНК\n",
        "    with open(z_dna_file, 'r') as f:\n",
        "        for line in f:\n",
        "            # Пропускаем строки, начинающиеся с \"NW\" или содержащие слово \"start\"\n",
        "            if line.startswith('NW') or ' start ' in line:\n",
        "                continue\n",
        "\n",
        "            # Разделяем строку на части\n",
        "            parts = line.strip().split()\n",
        "\n",
        "            # Пропускаем строки, которые не разделились на две части (например, заголовки)\n",
        "            if len(parts) != 2:\n",
        "                print(f\"Skipping invalid line: {line}\")\n",
        "                continue\n",
        "\n",
        "            # Пытаемся преобразовать начальную и конечную координату в целые числа\n",
        "            try:\n",
        "                start = int(parts[0])\n",
        "                end = int(parts[1])\n",
        "                z_dna_coordinates.append((start, end))\n",
        "            except ValueError:\n",
        "                print(f\"Skipping line with non-integer coordinates: {line}\")\n",
        "\n",
        "    return z_dna_coordinates\n",
        "\n",
        "# Пример использования функции\n",
        "z_dna_file = 'z_dna.txt'\n",
        "z_dna_coordinates = process_z_dna_file(z_dna_file)\n",
        "\n",
        "# Выводим координаты Z-DНК для проверки\n",
        "#for start, end in z_dna_coordinates:\n",
        "    #print(f\"Start: {start}, End: {end}\")\n",
        "\n",
        "print(type(z_dna_coordinates))"
      ],
      "metadata": {
        "id": "etM9d0ggS2kY"
      },
      "execution_count": null,
      "outputs": []
    },
    {
      "cell_type": "code",
      "source": [
        "import gffutils\n",
        "\n",
        "# Указать путь к файлу GTF\n",
        "gtf_file = 'genomic.gtf'\n",
        "\n",
        "# Создать базу данных SQLite из файла GTF\n",
        "db = gffutils.create_db(gtf_file, dbfn='annotation.db', force=True, merge_strategy='merge')\n",
        "\n",
        "# Открываем созданную базу данных\n",
        "db = gffutils.FeatureDB('annotation.db')\n",
        "\n",
        "# Пример использования базы данных (запрос всех генов)\n",
        "\n",
        "\n",
        "\n",
        "# Закрываем базу данных\n",
        "#db.close()\n"
      ],
      "metadata": {
        "colab": {
          "base_uri": "https://localhost:8080/"
        },
        "id": "DYaPkePdSLw9",
        "outputId": "1ca89f39-796f-4640-8233-cdc08d99a399"
      },
      "execution_count": 61,
      "outputs": [
        {
          "output_type": "stream",
          "name": "stderr",
          "text": []
        },
        {
          "output_type": "execute_result",
          "data": {
            "text/plain": [
              "<gffutils.interface.FeatureDB at 0x78f53ec2ecb0>"
            ]
          },
          "metadata": {},
          "execution_count": 61
        }
      ]
    },
    {
      "cell_type": "code",
      "source": [
        "gtf_file = 'genomic.gtf'\n",
        "output_file = 'genome_annotation_without_header.gtf'\n",
        "\n",
        "# Открываем исходный файл GTF и создаем новый файл без первых трех строк\n",
        "with open(gtf_file, 'r') as f_in, open(output_file, 'w') as f_out:\n",
        "    # Пропускаем первые три строки\n",
        "    for i, line in enumerate(f_in):\n",
        "        if i < 3:\n",
        "            continue\n",
        "        f_out.write(line)\n",
        "\n",
        "print(f\"Removed headers from {gtf_file}. Output written to {output_file}\")\n"
      ],
      "metadata": {
        "colab": {
          "base_uri": "https://localhost:8080/"
        },
        "id": "dCjoRtMvWr1t",
        "outputId": "91279b55-3450-4910-bfa1-e7b61a274ac2"
      },
      "execution_count": 64,
      "outputs": [
        {
          "output_type": "stream",
          "name": "stdout",
          "text": [
            "Removed headers from genomic.gtf. Output written to genome_annotation_without_header.gtf\n"
          ]
        }
      ]
    },
    {
      "cell_type": "code",
      "source": [
        "import gffutils\n",
        "\n",
        "# Функция для определения типа региона генома\n",
        "def determine_genomic_region(feature, start, end):\n",
        "    if feature.featuretype == 'gene':\n",
        "        return 'gene'\n",
        "    elif feature.featuretype == 'exon' and feature.start <= start and feature.end >= end:\n",
        "        return 'exon'\n",
        "    elif feature.featuretype == 'intron' and feature.start <= start and feature.end >= end:\n",
        "        return 'intron'\n",
        "    elif feature.start < start < feature.end and end > feature.end:\n",
        "        return 'downstream'\n",
        "    elif start < feature.start < end < feature.end:\n",
        "        return 'upstream'\n",
        "    elif feature.start - start <= 1000 and feature.end >= start:\n",
        "        return 'promoter'\n",
        "    else:\n",
        "        return 'intergenic'\n",
        "\n",
        "# Путь к файлу GFF аннотации генома\n",
        "gff_file = 'genomic.gff'\n",
        "\n",
        "# Создание базы данных из файла GFF, если она еще не создана\n",
        "db = gffutils.create_db(gff_file, dbfn='annotation.db', force=True, merge_strategy='merge')\n",
        "\n",
        "# Открываем созданную базу данных\n",
        "db = gffutils.FeatureDB('annotation.db')\n",
        "\n",
        "# Путь к файлу с координатами Z-ДНК\n",
        "zdna_file = 'g4.txt'\n",
        "\n",
        "# Открываем файл с координатами Z-ДНК\n",
        "with open(zdna_file, 'r') as f_in, open('q4_with_regions.txt', 'w') as f_out:\n",
        "    f_out.write(\"start\\tend\\tregion\\n\")  # Заголовок файла вывода\n",
        "\n",
        "    for line in f_in:\n",
        "        if line.startswith('start'):  # Пропускаем строку с заголовком\n",
        "            continue\n",
        "        # Пропускаем строки, начинающиеся с \"NW\" или содержащие слово \"start\"\n",
        "        if line.startswith('NW') or ' start ' in line:\n",
        "            continue\n",
        "        if line.startswith('NC') or ' start ' in line:\n",
        "            continue\n",
        "        start, end = map(int, line.strip().split())\n",
        "\n",
        "        # Ищем пересечения с Z-ДНК в базе данных аннотации генома\n",
        "        for feature in db.region(start=start, end=end, completely_within=False):\n",
        "            region_type = determine_genomic_region(feature, start, end)\n",
        "            f_out.write(f\"{start}\\t{end}\\t{region_type}\\n\")\n",
        "\n",
        "# Закрываем базу данных\n",
        "db.close()\n",
        "\n",
        "print(\"Расчет завершен. Результаты записаны в файл g4_with_regions.txt\")\n"
      ],
      "metadata": {
        "colab": {
          "base_uri": "https://localhost:8080/",
          "height": 228
        },
        "id": "EQF8Bai_YNAK",
        "outputId": "a45b583b-5d60-4a81-d628-5df1e42fd4ad"
      },
      "execution_count": 82,
      "outputs": [
        {
          "output_type": "error",
          "ename": "AttributeError",
          "evalue": "'FeatureDB' object has no attribute 'close'",
          "traceback": [
            "\u001b[0;31m---------------------------------------------------------------------------\u001b[0m",
            "\u001b[0;31mAttributeError\u001b[0m                            Traceback (most recent call last)",
            "\u001b[0;32m<ipython-input-82-f18bf7742e8a>\u001b[0m in \u001b[0;36m<cell line: 52>\u001b[0;34m()\u001b[0m\n\u001b[1;32m     50\u001b[0m \u001b[0;34m\u001b[0m\u001b[0m\n\u001b[1;32m     51\u001b[0m \u001b[0;31m# Закрываем базу данных\u001b[0m\u001b[0;34m\u001b[0m\u001b[0;34m\u001b[0m\u001b[0m\n\u001b[0;32m---> 52\u001b[0;31m \u001b[0mdb\u001b[0m\u001b[0;34m.\u001b[0m\u001b[0mclose\u001b[0m\u001b[0;34m(\u001b[0m\u001b[0;34m)\u001b[0m\u001b[0;34m\u001b[0m\u001b[0;34m\u001b[0m\u001b[0m\n\u001b[0m\u001b[1;32m     53\u001b[0m \u001b[0;34m\u001b[0m\u001b[0m\n\u001b[1;32m     54\u001b[0m \u001b[0mprint\u001b[0m\u001b[0;34m(\u001b[0m\u001b[0;34m\"Расчет завершен. Результаты записаны в файл g4_with_regions.txt\"\u001b[0m\u001b[0;34m)\u001b[0m\u001b[0;34m\u001b[0m\u001b[0;34m\u001b[0m\u001b[0m\n",
            "\u001b[0;31mAttributeError\u001b[0m: 'FeatureDB' object has no attribute 'close'"
          ]
        }
      ]
    },
    {
      "cell_type": "code",
      "source": [
        "# Путь к исходному файлу с результатами\n",
        "input_file = 'q4_with_regions.txt'\n",
        "\n",
        "# Путь к файлу, в который будем записывать уникальные строки\n",
        "output_file = 'q4_unique_regions.txt'\n",
        "\n",
        "# Множество для отслеживания уникальных строк\n",
        "unique_lines = set()\n",
        "\n",
        "# Чтение и запись уникальных строк\n",
        "with open(input_file, 'r') as f_in, open(output_file, 'w') as f_out:\n",
        "    header = f_in.readline()  # Читаем заголовок и записываем в новый файл\n",
        "    f_out.write(header)\n",
        "\n",
        "    for line in f_in:\n",
        "        if line.strip() not in unique_lines:\n",
        "            unique_lines.add(line.strip())\n",
        "            f_out.write(line)\n",
        "\n",
        "print(\"Уникальные строки записаны в файл Z_DNA_unique_regions.txt\")\n"
      ],
      "metadata": {
        "colab": {
          "base_uri": "https://localhost:8080/"
        },
        "id": "UpcvH2NplAcu",
        "outputId": "c2a8472d-1341-403b-c082-a2d076f756ed"
      },
      "execution_count": 90,
      "outputs": [
        {
          "output_type": "stream",
          "name": "stdout",
          "text": [
            "Уникальные строки записаны в файл Z_DNA_unique_regions.txt\n"
          ]
        }
      ]
    },
    {
      "cell_type": "code",
      "source": [
        "# Путь к файлу с результатами\n",
        "result_file = 'q4_unique_regions.txt'\n",
        "\n",
        "# Словарь для подсчета количества Z-ДНК в каждой категории\n",
        "counts = {\n",
        "    'promoter': 0,\n",
        "    'gene': 0,\n",
        "    'exon': 0,\n",
        "    'intron': 0,\n",
        "    'upstream': 0,\n",
        "    'downstream': 0,\n",
        "    'intergenic': 0\n",
        "}\n",
        "total=0\n",
        "# Чтение файла с результатами\n",
        "with open(result_file, 'r') as f:\n",
        "    next(f)  # Пропускаем заголовок\n",
        "    for line in f:\n",
        "        start, end, region_type = line.strip().split('\\t')\n",
        "        counts[region_type] += 1\n",
        "        total+=1\n",
        "# Вывод результатов\n",
        "print(f\"Количество g4-ДНК в промоторах: {counts['promoter']}\")\n",
        "print(f\"Количество g4-ДНК в генах: {counts['gene']}\")\n",
        "print(f\"Количество g4-ДНК в экзонах: {counts['exon']}\")\n",
        "print(f\"Количество g4-ДНК в интронах: {counts['intron']}\")\n",
        "print(f\"Количество g4-ДНК в upstream: {counts['upstream']}\")\n",
        "print(f\"Количество g4-ДНК в downstream: {counts['downstream']}\")\n",
        "print(f\"Количество g4-ДНК в межгенном пространстве: {counts['intergenic']}\")\n",
        "print(total)"
      ],
      "metadata": {
        "colab": {
          "base_uri": "https://localhost:8080/"
        },
        "id": "Td_USAY_b3om",
        "outputId": "d5fba574-66a6-4f9b-ec02-8d74a936c7b4"
      },
      "execution_count": 91,
      "outputs": [
        {
          "output_type": "stream",
          "name": "stdout",
          "text": [
            "Количество g4-ДНК в промоторах: 9510\n",
            "Количество g4-ДНК в генах: 9278\n",
            "Количество g4-ДНК в экзонах: 266\n",
            "Количество g4-ДНК в интронах: 0\n",
            "Количество g4-ДНК в upstream: 1571\n",
            "Количество g4-ДНК в downstream: 1621\n",
            "Количество g4-ДНК в межгенном пространстве: 0\n",
            "22246\n"
          ]
        }
      ]
    },
    {
      "cell_type": "code",
      "source": [
        "! pip install Bio\n",
        "from Bio import SeqIO\n",
        "import re\n",
        "sequences = SeqIO.parse(\"genome.fna\", \"fasta\")\n",
        "pattern = \"(?:G{3,}[ATGC]{1,7}){3,}G{3,}\"\n",
        "pattern_C = \"(?:C{3,}[ATGC]{1,7}){3,}C{3,}\"\n",
        "for seq in sequences:\n",
        "    PQS_plus = [[m.start(), m.end(), m.group(0)] for m in re.finditer(pattern,\n",
        "str(seq.seq), re.IGNORECASE)]\n",
        "    PQS_minus = [[m.start(), m.end(), m.group(0)] for m in re.finditer(pattern_C,\n",
        "str(seq.seq), re.IGNORECASE)]\n",
        "    with open(\"g4.txt\", \"w\") as f:\n",
        "      f.write(\"0\\t1\\n\")\n",
        "      for i in (PQS_minus + PQS_plus):\n",
        "        f.write(f\"{i[0]}\\t{i[1]}\\n\")\n",
        "print(len(PQS_plus) + len(PQS_minus))\n"
      ],
      "metadata": {
        "colab": {
          "base_uri": "https://localhost:8080/"
        },
        "id": "hM-ZRPcCeZh1",
        "outputId": "13704cdc-d8e7-480e-dc46-0ba8616a5771"
      },
      "execution_count": 79,
      "outputs": [
        {
          "output_type": "stream",
          "name": "stdout",
          "text": [
            "Collecting Bio\n",
            "  Downloading bio-1.7.1-py3-none-any.whl (280 kB)\n",
            "\u001b[2K     \u001b[90m━━━━━━━━━━━━━━━━━━━━━━━━━━━━━━━━━━━━━━━━\u001b[0m \u001b[32m281.0/281.0 kB\u001b[0m \u001b[31m3.8 MB/s\u001b[0m eta \u001b[36m0:00:00\u001b[0m\n",
            "\u001b[?25hCollecting biopython>=1.80 (from Bio)\n",
            "  Downloading biopython-1.83-cp310-cp310-manylinux_2_17_x86_64.manylinux2014_x86_64.whl (3.1 MB)\n",
            "\u001b[2K     \u001b[90m━━━━━━━━━━━━━━━━━━━━━━━━━━━━━━━━━━━━━━━━\u001b[0m \u001b[32m3.1/3.1 MB\u001b[0m \u001b[31m10.1 MB/s\u001b[0m eta \u001b[36m0:00:00\u001b[0m\n",
            "\u001b[?25hCollecting gprofiler-official (from Bio)\n",
            "  Downloading gprofiler_official-1.0.0-py3-none-any.whl (9.3 kB)\n",
            "Collecting mygene (from Bio)\n",
            "  Downloading mygene-3.2.2-py2.py3-none-any.whl (5.4 kB)\n",
            "Requirement already satisfied: pandas in /usr/local/lib/python3.10/dist-packages (from Bio) (2.0.3)\n",
            "Requirement already satisfied: pooch in /usr/local/lib/python3.10/dist-packages (from Bio) (1.8.2)\n",
            "Requirement already satisfied: requests in /usr/local/lib/python3.10/dist-packages (from Bio) (2.31.0)\n",
            "Requirement already satisfied: tqdm in /usr/local/lib/python3.10/dist-packages (from Bio) (4.66.4)\n",
            "Requirement already satisfied: numpy in /usr/local/lib/python3.10/dist-packages (from biopython>=1.80->Bio) (1.25.2)\n",
            "Collecting biothings-client>=0.2.6 (from mygene->Bio)\n",
            "  Downloading biothings_client-0.3.1-py2.py3-none-any.whl (29 kB)\n",
            "Requirement already satisfied: python-dateutil>=2.8.2 in /usr/local/lib/python3.10/dist-packages (from pandas->Bio) (2.8.2)\n",
            "Requirement already satisfied: pytz>=2020.1 in /usr/local/lib/python3.10/dist-packages (from pandas->Bio) (2023.4)\n",
            "Requirement already satisfied: tzdata>=2022.1 in /usr/local/lib/python3.10/dist-packages (from pandas->Bio) (2024.1)\n",
            "Requirement already satisfied: platformdirs>=2.5.0 in /usr/local/lib/python3.10/dist-packages (from pooch->Bio) (4.2.2)\n",
            "Requirement already satisfied: packaging>=20.0 in /usr/local/lib/python3.10/dist-packages (from pooch->Bio) (24.1)\n",
            "Requirement already satisfied: charset-normalizer<4,>=2 in /usr/local/lib/python3.10/dist-packages (from requests->Bio) (3.3.2)\n",
            "Requirement already satisfied: idna<4,>=2.5 in /usr/local/lib/python3.10/dist-packages (from requests->Bio) (3.7)\n",
            "Requirement already satisfied: urllib3<3,>=1.21.1 in /usr/local/lib/python3.10/dist-packages (from requests->Bio) (2.0.7)\n",
            "Requirement already satisfied: certifi>=2017.4.17 in /usr/local/lib/python3.10/dist-packages (from requests->Bio) (2024.6.2)\n",
            "Requirement already satisfied: six>=1.5 in /usr/local/lib/python3.10/dist-packages (from python-dateutil>=2.8.2->pandas->Bio) (1.16.0)\n",
            "Installing collected packages: biopython, gprofiler-official, biothings-client, mygene, Bio\n",
            "Successfully installed Bio-1.7.1 biopython-1.83 biothings-client-0.3.1 gprofiler-official-1.0.0 mygene-3.2.2\n",
            "3\n"
          ]
        }
      ]
    },
    {
      "cell_type": "code",
      "source": [
        "! head /content/q4_with_regions.txt"
      ],
      "metadata": {
        "colab": {
          "base_uri": "https://localhost:8080/"
        },
        "id": "uMG-3UgXjRLC",
        "outputId": "58a2aff5-d25e-405d-f3a2-0863a509c8a3"
      },
      "execution_count": 84,
      "outputs": [
        {
          "output_type": "stream",
          "name": "stdout",
          "text": [
            "start\tend\tregion\n",
            "0\t178\tupstream\n",
            "0\t178\tupstream\n",
            "0\t178\tupstream\n",
            "0\t178\tupstream\n",
            "0\t178\tupstream\n",
            "0\t178\tupstream\n",
            "0\t178\tupstream\n",
            "0\t178\tupstream\n",
            "0\t178\tupstream\n"
          ]
        }
      ]
    },
    {
      "cell_type": "markdown",
      "source": [],
      "metadata": {
        "id": "-HXlvXaji0UF"
      }
    }
  ]
}